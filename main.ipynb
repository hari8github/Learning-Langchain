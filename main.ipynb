{
 "cells": [
  {
   "cell_type": "code",
   "execution_count": 17,
   "id": "fed90791",
   "metadata": {},
   "outputs": [],
   "source": [
    "import os\n",
    "from langchain_groq import ChatGroq\n",
    "from langchain.prompts import HumanMessagePromptTemplate, SystemMessagePromptTemplate, ChatPromptTemplate\n",
    "from dotenv import load_dotenv"
   ]
  },
  {
   "cell_type": "code",
   "execution_count": 18,
   "id": "76388554",
   "metadata": {},
   "outputs": [
    {
     "data": {
      "text/plain": [
       "True"
      ]
     },
     "execution_count": 18,
     "metadata": {},
     "output_type": "execute_result"
    }
   ],
   "source": [
    "load_dotenv() # Load environment variables from .env file"
   ]
  },
  {
   "cell_type": "code",
   "execution_count": 19,
   "id": "3aa2d101",
   "metadata": {},
   "outputs": [],
   "source": [
    "model = \"llama3-8b-8192\" # Model which is going to be used from Groq"
   ]
  },
  {
   "cell_type": "code",
   "execution_count": 20,
   "id": "377fcd63",
   "metadata": {},
   "outputs": [],
   "source": [
    "llm = ChatGroq(model = model, temperature = 0.0) # Less creative, more factual responses\n",
    "creative_llm = ChatGroq(model = model, temperature = 0.9) # More creative, less factual responses"
   ]
  },
  {
   "cell_type": "code",
   "execution_count": 21,
   "id": "c7e2d9ed",
   "metadata": {},
   "outputs": [],
   "source": [
    "# This is a sample article that we will use further.\n",
    "\n",
    "article = \"\"\"\n",
    "Liverpool FC: The Renaissance Under Jürgen Klopp's Second Era\n",
    "\n",
    "Liverpool Football Club is experiencing a remarkable transformation in what many are calling \n",
    "Jürgen Klopp's second era at the helm. After the departure of veteran players like Jordan \n",
    "Henderson, Roberto Firmino, and James Milner, the club has undergone a strategic rebuild \n",
    "that's breathing new life into the historic institution.\n",
    "\n",
    "The midfield revolution has been particularly striking. The additions of Dominik Szoboszlai, \n",
    "Alexis Mac Allister, and Ryan Gravenberch have injected fresh energy into the team's core. \n",
    "These young talents, combined with the explosive potential of Darwin Núñez and the consistent \n",
    "brilliance of Mohamed Salah, have restored Liverpool's fearsome attacking reputation.\n",
    "\n",
    "What's most impressive is how Klopp has managed this transition while maintaining the team's \n",
    "competitive edge. The Reds have seamlessly blended their renowned high-pressing style with \n",
    "a more nuanced possession game, adapting to the strengths of their new personnel. The \n",
    "emergence of academy graduates like Conor Bradley and Jarell Quansah also highlights the \n",
    "club's commitment to youth development.\n",
    "\n",
    "However, challenges remain as the team seeks to reclaim their position at the summit of \n",
    "English football. The question of defensive stability and squad depth continues to spark \n",
    "debate among supporters. Yet, there's an undeniable sense of optimism at Anfield as this \n",
    "new-look Liverpool side shows all the hallmarks of another potentially dominant era in \n",
    "the club's storied history.\n",
    "\"\"\""
   ]
  },
  {
   "cell_type": "code",
   "execution_count": 22,
   "id": "b9744841",
   "metadata": {},
   "outputs": [],
   "source": [
    "# System prompt is a template that sets the context for the AI assistant.\n",
    "\n",
    "system_prompt = SystemMessagePromptTemplate.from_template(\n",
    "    \"You are an AI assistant that helps generate article titles.\"\n",
    ")\n",
    "\n",
    "# User prompt is a template that asks (which is by the user) the AI assistant to generate a title based on the article content.\n",
    "user_prompt = HumanMessagePromptTemplate.from_template(\n",
    "    \"\"\"You are tasked with creating a name for a article.\n",
    "The article is here for you to examine {article}\n",
    "\n",
    "The name should be based of the context of the article.\n",
    "Be creative, but make sure the names are clear, catchy,\n",
    "and relevant to the theme of the article.\n",
    "\n",
    "Only output the article name, no other explanation or\n",
    "text can be provided.\"\"\",\n",
    "\n",
    "    input_variables=[\"article\"]\n",
    ")"
   ]
  },
  {
   "cell_type": "code",
   "execution_count": 23,
   "id": "4a45978e",
   "metadata": {},
   "outputs": [
    {
     "name": "stdout",
     "output_type": "stream",
     "text": [
      "You are tasked with creating a name for a article.\n",
      "The article is here for you to examine TEST\n",
      "\n",
      "The name should be based of the context of the article.\n",
      "Be creative, but make sure the names are clear, catchy,\n",
      "and relevant to the theme of the article.\n",
      "\n",
      "Only output the article name, no other explanation or\n",
      "text can be provided.\n"
     ]
    }
   ],
   "source": [
    "print(user_prompt.format(article = \"TEST\").content) # This will print the formatted user prompt with the article content."
   ]
  },
  {
   "cell_type": "code",
   "execution_count": 24,
   "id": "6901b6db",
   "metadata": {},
   "outputs": [],
   "source": [
    "first_prompt = ChatPromptTemplate.from_messages([system_prompt, user_prompt]) # Chat prompt template combines system and user prompts."
   ]
  },
  {
   "cell_type": "code",
   "execution_count": 26,
   "id": "bc1177c5",
   "metadata": {},
   "outputs": [
    {
     "name": "stdout",
     "output_type": "stream",
     "text": [
      "System: You are an AI assistant that helps generate article titles.\n",
      "Human: You are tasked with creating a name for a article.\n",
      "The article is here for you to examine TEST\n",
      "\n",
      "The name should be based of the context of the article.\n",
      "Be creative, but make sure the names are clear, catchy,\n",
      "and relevant to the theme of the article.\n",
      "\n",
      "Only output the article name, no other explanation or\n",
      "text can be provided.\n"
     ]
    }
   ],
   "source": [
    "print(first_prompt.format(article = \"TEST\")) # This will merge both the system and user prompts into a single prompt."
   ]
  },
  {
   "cell_type": "code",
   "execution_count": null,
   "id": "5360458a",
   "metadata": {},
   "outputs": [],
   "source": []
  }
 ],
 "metadata": {
  "kernelspec": {
   "display_name": "langchain_env",
   "language": "python",
   "name": "python3"
  },
  "language_info": {
   "codemirror_mode": {
    "name": "ipython",
    "version": 3
   },
   "file_extension": ".py",
   "mimetype": "text/x-python",
   "name": "python",
   "nbconvert_exporter": "python",
   "pygments_lexer": "ipython3",
   "version": "3.9.13"
  }
 },
 "nbformat": 4,
 "nbformat_minor": 5
}
