{
 "cells": [
  {
   "cell_type": "code",
   "execution_count": 1,
   "id": "fed90791",
   "metadata": {},
   "outputs": [],
   "source": [
    "import os\n",
    "from langchain_groq import ChatGroq\n",
    "from langchain.prompts import HumanMessagePromptTemplate, SystemMessagePromptTemplate, ChatPromptTemplate\n",
    "from dotenv import load_dotenv"
   ]
  },
  {
   "cell_type": "code",
   "execution_count": 2,
   "id": "76388554",
   "metadata": {},
   "outputs": [
    {
     "data": {
      "text/plain": [
       "True"
      ]
     },
     "execution_count": 2,
     "metadata": {},
     "output_type": "execute_result"
    }
   ],
   "source": [
    "load_dotenv() # Load environment variables from .env file"
   ]
  },
  {
   "cell_type": "code",
   "execution_count": 3,
   "id": "3aa2d101",
   "metadata": {},
   "outputs": [],
   "source": [
    "model = \"llama3-8b-8192\" # Model which is going to be used from Groq"
   ]
  },
  {
   "cell_type": "code",
   "execution_count": 4,
   "id": "377fcd63",
   "metadata": {},
   "outputs": [],
   "source": [
    "llm = ChatGroq(model = model, temperature = 0.0) # Less creative, more factual responses\n",
    "creative_llm = ChatGroq(model = model, temperature = 0.9) # More creative, less factual responses"
   ]
  },
  {
   "cell_type": "code",
   "execution_count": 5,
   "id": "c7e2d9ed",
   "metadata": {},
   "outputs": [],
   "source": [
    "# This is a sample article that we will use further.\n",
    "\n",
    "article = \"\"\"\n",
    "Liverpool FC: The Renaissance Under Jürgen Klopp's Second Era\n",
    "\n",
    "Liverpool Football Club is experiencing a remarkable transformation in what many are calling \n",
    "Jürgen Klopp's second era at the helm. After the departure of veteran players like Jordan \n",
    "Henderson, Roberto Firmino, and James Milner, the club has undergone a strategic rebuild \n",
    "that's breathing new life into the historic institution.\n",
    "\n",
    "The midfield revolution has been particularly striking. The additions of Dominik Szoboszlai, \n",
    "Alexis Mac Allister, and Ryan Gravenberch have injected fresh energy into the team's core. \n",
    "These young talents, combined with the explosive potential of Darwin Núñez and the consistent \n",
    "brilliance of Mohamed Salah, have restored Liverpool's fearsome attacking reputation.\n",
    "\n",
    "What's most impressive is how Klopp has managed this transition while maintaining the team's \n",
    "competitive edge. The Reds have seamlessly blended their renowned high-pressing style with \n",
    "a more nuanced possession game, adapting to the strengths of their new personnel. The \n",
    "emergence of academy graduates like Conor Bradley and Jarell Quansah also highlights the \n",
    "club's commitment to youth development.\n",
    "\n",
    "However, challenges remain as the team seeks to reclaim their position at the summit of \n",
    "English football. The question of defensive stability and squad depth continues to spark \n",
    "debate among supporters. Yet, there's an undeniable sense of optimism at Anfield as this \n",
    "new-look Liverpool side shows all the hallmarks of another potentially dominant era in \n",
    "the club's storied history.\n",
    "\"\"\""
   ]
  },
  {
   "cell_type": "code",
   "execution_count": 6,
   "id": "b9744841",
   "metadata": {},
   "outputs": [],
   "source": [
    "# System prompt is a template that sets the context for the AI assistant.\n",
    "\n",
    "system_prompt = SystemMessagePromptTemplate.from_template(\n",
    "    \"You are an AI assistant called {name} that helps generate article titles.\", \n",
    "    input_variables = [\"name\"]\n",
    ")\n",
    "\n",
    "# User prompt is a template that asks (which is by the user) the AI assistant to generate a title based on the article content.\n",
    "user_prompt = HumanMessagePromptTemplate.from_template(\n",
    "    \"\"\"You are tasked with creating a name for a article.\n",
    "The article is here for you to examine {article}\n",
    "\n",
    "The name should be based of the context of the article.\n",
    "Be creative, but make sure the names are clear, catchy,\n",
    "and relevant to the theme of the article.\n",
    "\n",
    "Only output the article name, no other explanation or\n",
    "text can be provided.\"\"\",\n",
    "\n",
    "    input_variables=[\"article\"]\n",
    ")"
   ]
  },
  {
   "cell_type": "code",
   "execution_count": 13,
   "id": "4a45978e",
   "metadata": {},
   "outputs": [
    {
     "data": {
      "text/plain": [
       "'You are tasked with creating a name for a article.\\nThe article is here for you to examine TEST\\n\\nThe name should be based of the context of the article.\\nBe creative, but make sure the names are clear, catchy,\\nand relevant to the theme of the article.\\n\\nOnly output the article name, no other explanation or\\ntext can be provided.'"
      ]
     },
     "execution_count": 13,
     "metadata": {},
     "output_type": "execute_result"
    }
   ],
   "source": [
    "user_prompt.format(article = \"TEST\").content # This will print the formatted user prompt with the article content."
   ]
  },
  {
   "cell_type": "code",
   "execution_count": 8,
   "id": "6901b6db",
   "metadata": {},
   "outputs": [],
   "source": [
    "first_prompt = ChatPromptTemplate.from_messages([system_prompt, user_prompt]) # Chat prompt template combines system and user prompts."
   ]
  },
  {
   "cell_type": "code",
   "execution_count": 11,
   "id": "bc1177c5",
   "metadata": {},
   "outputs": [
    {
     "name": "stdout",
     "output_type": "stream",
     "text": [
      "System: You are an AI assistant called GROQ that helps generate article titles.\n",
      "Human: You are tasked with creating a name for a article.\n",
      "The article is here for you to examine TEST\n",
      "\n",
      "The name should be based of the context of the article.\n",
      "Be creative, but make sure the names are clear, catchy,\n",
      "and relevant to the theme of the article.\n",
      "\n",
      "Only output the article name, no other explanation or\n",
      "text can be provided.\n"
     ]
    }
   ],
   "source": [
    "print(first_prompt.format(article = \"TEST\", name = \"GROQ\")) # This will merge both the system and user prompts into a single prompt."
   ]
  },
  {
   "cell_type": "code",
   "execution_count": 14,
   "id": "5360458a",
   "metadata": {},
   "outputs": [],
   "source": [
    "# Using LangChain Expression Language (LCEL) to construct our chain. \n",
    "# The inputs are defined in dictionary {} and the pipe operator (|) and the contents of the left side are fed to right side of the pipe.\n",
    "\n",
    "chain_one = (\n",
    "    {\n",
    "        \"article\" : lambda x: x[\"article\"], \n",
    "        \"name\" : lambda x: x[\"name\"]\n",
    "    }\n",
    "    | first_prompt\n",
    "    | creative_llm\n",
    "    | {\"article_title\": lambda x: x.content}\n",
    ")"
   ]
  },
  {
   "cell_type": "code",
   "execution_count": 16,
   "id": "a121409f",
   "metadata": {},
   "outputs": [
    {
     "data": {
      "text/plain": [
       "{'article_title': '\"From Revolution to Renaissance: Liverpool FC\\'s Bold Rebirth Under Jürgen Klopp\"'}"
      ]
     },
     "execution_count": 16,
     "metadata": {},
     "output_type": "execute_result"
    }
   ],
   "source": [
    "# We will use invoke method to execute the chain with the article and name as inputs.\n",
    "\n",
    "article_title = chain_one.invoke({\n",
    "    \"article\": article, \n",
    "    \"name\" : \"GROQ\"\n",
    "})\n",
    "\n",
    "article_title"
   ]
  },
  {
   "cell_type": "markdown",
   "id": "65b6333d",
   "metadata": {},
   "source": [
    "### Multiple LLMChains to follow!"
   ]
  },
  {
   "cell_type": "code",
   "execution_count": 24,
   "id": "ef3ce4c6",
   "metadata": {},
   "outputs": [],
   "source": [
    "# Here we change the system prompt and a new user prompt.\n",
    "\n",
    "system_prompt = SystemMessagePromptTemplate.from_template(\n",
    "    \"You are an AI assistant that helps generate awesome articles.\"\n",
    ")\n",
    "\n",
    "second_user_prompt = HumanMessagePromptTemplate.from_template(\n",
    "    \"\"\"You are tasked with creating a description for\n",
    "the article. The article is here for you to examine:\n",
    "\n",
    "---\n",
    "\n",
    "{article}\n",
    "\n",
    "---\n",
    "\n",
    "Here is the article title '{article_title}'.\n",
    "\n",
    "Output the SEO friendly article description. Also make sure dont exceed over 120 characters.\n",
    "Do not output anything other than the description.\"\"\",\n",
    "    input_variables=[\"article\", \"article_title\"]\n",
    ")"
   ]
  },
  {
   "cell_type": "code",
   "execution_count": 25,
   "id": "9a774bdf",
   "metadata": {},
   "outputs": [],
   "source": [
    "second_prompt = ChatPromptTemplate.from_messages(\n",
    "    [\n",
    "        system_prompt,\n",
    "        second_user_prompt\n",
    "    ]\n",
    ")"
   ]
  },
  {
   "cell_type": "code",
   "execution_count": 26,
   "id": "0e4b5c02",
   "metadata": {},
   "outputs": [],
   "source": [
    "chain_two = (\n",
    "    {\n",
    "        \"article\" : lambda x: x[\"article\"],\n",
    "        \"article_title\": lambda x: x[\"article_title\"]\n",
    "    }\n",
    "    | second_prompt\n",
    "    | llm\n",
    "    | {\"summary\": lambda x: x.content}\n",
    ")\n",
    "\n",
    "# Here we have created a second chain."
   ]
  },
  {
   "cell_type": "code",
   "execution_count": 27,
   "id": "2eb2de78",
   "metadata": {},
   "outputs": [
    {
     "data": {
      "text/plain": [
       "{'summary': '\"Jürgen Klopp\\'s Liverpool FC undergoes a bold rebirth, blending youth and experience to reclaim their spot at the top of English football.\"'}"
      ]
     },
     "execution_count": 27,
     "metadata": {},
     "output_type": "execute_result"
    }
   ],
   "source": [
    "article_desc_msg = chain_two.invoke(\n",
    "    {\n",
    "        \"article\": article,\n",
    "        \"article_title\": article_title[\"article_title\"]\n",
    "    }\n",
    ")\n",
    "\n",
    "article_desc_msg   # This will invoke the second chain with the article and article title as inputs.\n",
    "# The output will be the article description generated by the AI assistant."
   ]
  },
  {
   "cell_type": "code",
   "execution_count": null,
   "id": "f6eaf6bb",
   "metadata": {},
   "outputs": [],
   "source": []
  }
 ],
 "metadata": {
  "kernelspec": {
   "display_name": "langchain_env",
   "language": "python",
   "name": "python3"
  },
  "language_info": {
   "codemirror_mode": {
    "name": "ipython",
    "version": 3
   },
   "file_extension": ".py",
   "mimetype": "text/x-python",
   "name": "python",
   "nbconvert_exporter": "python",
   "pygments_lexer": "ipython3",
   "version": "3.9.13"
  }
 },
 "nbformat": 4,
 "nbformat_minor": 5
}
