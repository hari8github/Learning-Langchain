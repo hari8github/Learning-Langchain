{
 "cells": [
  {
   "cell_type": "code",
   "execution_count": 1,
   "id": "7cdad806",
   "metadata": {},
   "outputs": [],
   "source": [
    "import os\n",
    "from dotenv import load_dotenv\n",
    "from langchain_groq import ChatGroq\n",
    "\n",
    "load_dotenv()\n",
    "\n",
    "# below should not be changed\n",
    "os.environ[\"LANGCHAIN_TRACING_V2\"] = \"true\"\n",
    "os.environ[\"LANGCHAIN_ENDPOINT\"] = \"https://api.smith.langchain.com\"\n",
    "\n",
    "# you can change this as preferred\n",
    "os.environ[\"LANGCHAIN_PROJECT\"] = \"langsmith-basics\"  # (smith.langchaini.com)"
   ]
  },
  {
   "cell_type": "code",
   "execution_count": 5,
   "id": "374084f7",
   "metadata": {},
   "outputs": [],
   "source": [
    "model = \"llama3-8b-8192\""
   ]
  },
  {
   "cell_type": "code",
   "execution_count": 6,
   "id": "4f515fe7",
   "metadata": {},
   "outputs": [],
   "source": [
    "llm = ChatGroq(model = model, temperature = 0.0)"
   ]
  },
  {
   "cell_type": "code",
   "execution_count": 7,
   "id": "29959fc5",
   "metadata": {},
   "outputs": [
    {
     "data": {
      "text/plain": [
       "AIMessage(content=\"Hi! It's nice to meet you. Is there something I can help you with or would you like to chat?\", additional_kwargs={}, response_metadata={'token_usage': {'completion_tokens': 25, 'prompt_tokens': 11, 'total_tokens': 36, 'completion_time': 0.030668033, 'prompt_time': 0.003468148, 'queue_time': 2.274246899, 'total_time': 0.034136181}, 'model_name': 'llama3-8b-8192', 'system_fingerprint': 'fp_5b339000ab', 'service_tier': 'on_demand', 'finish_reason': 'stop', 'logprobs': None}, id='run--b116bcb3-20f6-48c7-938e-99b854ca2cc4-0', usage_metadata={'input_tokens': 11, 'output_tokens': 25, 'total_tokens': 36})"
      ]
     },
     "execution_count": 7,
     "metadata": {},
     "output_type": "execute_result"
    }
   ],
   "source": [
    "llm.invoke(\"hi\")"
   ]
  },
  {
   "cell_type": "markdown",
   "id": "4252143c",
   "metadata": {},
   "source": [
    "### Langsmith can trace functions that are not part of Langchain. we need to use @traceable decorator"
   ]
  },
  {
   "cell_type": "code",
   "execution_count": 8,
   "id": "5602d169",
   "metadata": {},
   "outputs": [],
   "source": [
    "from langsmith import traceable\n",
    "import random, time"
   ]
  },
  {
   "cell_type": "code",
   "execution_count": 9,
   "id": "f951e912",
   "metadata": {},
   "outputs": [],
   "source": [
    "@traceable\n",
    "def generate_random_number():\n",
    "    return random.randint(0, 100)\n",
    "\n",
    "@traceable\n",
    "def generate_string_delay(input_str: str):\n",
    "    number = random.randint(1, 5)\n",
    "    time.sleep(number)\n",
    "    return f\"{input_str} ({number})\"\n",
    "\n",
    "@traceable\n",
    "def random_error():\n",
    "    number = random.randint(0, 1)\n",
    "    if number == 0:\n",
    "        return ValueError(\"Random Error\")\n",
    "    else:\n",
    "        return \"No Error\""
   ]
  },
  {
   "cell_type": "code",
   "execution_count": 10,
   "id": "970793bc",
   "metadata": {},
   "outputs": [
    {
     "name": "stderr",
     "output_type": "stream",
     "text": [
      "d:\\Langchain\\langchain_env\\lib\\site-packages\\tqdm\\auto.py:21: TqdmWarning: IProgress not found. Please update jupyter and ipywidgets. See https://ipywidgets.readthedocs.io/en/stable/user_install.html\n",
      "  from .autonotebook import tqdm as notebook_tqdm\n",
      "100%|██████████| 10/10 [00:30<00:00,  3.03s/it]\n"
     ]
    }
   ],
   "source": [
    "from tqdm.auto import tqdm\n",
    "\n",
    "for _ in tqdm(range(10)):\n",
    "    \n",
    "    generate_random_number()\n",
    "    generate_string_delay(\"LFC\")\n",
    "    try:\n",
    "        random_error()\n",
    "    except ValueError:\n",
    "        pass"
   ]
  },
  {
   "cell_type": "code",
   "execution_count": 12,
   "id": "8bad902d",
   "metadata": {},
   "outputs": [],
   "source": [
    "@traceable(name = \"Jurgen Klopp\")\n",
    "\n",
    "def error_generation_function(question : str):\n",
    "\n",
    "    delay = random.randint(0, 3)\n",
    "    time.sleep(delay)\n",
    "    number = random.randint(0, 1)\n",
    "    if number == 0:\n",
    "        raise ValueError(\"Random Error\")\n",
    "    else:\n",
    "        return \"Na nala iruken. Nee epadi iruka?\""
   ]
  },
  {
   "cell_type": "code",
   "execution_count": 13,
   "id": "f225dc0a",
   "metadata": {},
   "outputs": [
    {
     "name": "stderr",
     "output_type": "stream",
     "text": [
      "100%|██████████| 10/10 [00:18<00:00,  1.81s/it]\n"
     ]
    }
   ],
   "source": [
    "for _  in tqdm(range(10)):\n",
    "    try:\n",
    "        error_generation_function(\"How are u?\")\n",
    "    except ValueError:\n",
    "        pass"
   ]
  },
  {
   "cell_type": "code",
   "execution_count": null,
   "id": "76323229",
   "metadata": {},
   "outputs": [],
   "source": [
    " "
   ]
  }
 ],
 "metadata": {
  "kernelspec": {
   "display_name": "langchain_env",
   "language": "python",
   "name": "python3"
  },
  "language_info": {
   "codemirror_mode": {
    "name": "ipython",
    "version": 3
   },
   "file_extension": ".py",
   "mimetype": "text/x-python",
   "name": "python",
   "nbconvert_exporter": "python",
   "pygments_lexer": "ipython3",
   "version": "3.9.13"
  }
 },
 "nbformat": 4,
 "nbformat_minor": 5
}
