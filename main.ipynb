{
 "cells": [
  {
   "cell_type": "code",
   "execution_count": 2,
   "id": "fed90791",
   "metadata": {},
   "outputs": [],
   "source": [
    "import os\n",
    "from langchain_groq import ChatGroq\n",
    "from langchain.prompts import HumanMessagePromptTemplate, SystemMessagePromptTemplate, ChatPromptTemplate\n",
    "from dotenv import load_dotenv"
   ]
  },
  {
   "cell_type": "code",
   "execution_count": 3,
   "id": "76388554",
   "metadata": {},
   "outputs": [
    {
     "data": {
      "text/plain": [
       "True"
      ]
     },
     "execution_count": 3,
     "metadata": {},
     "output_type": "execute_result"
    }
   ],
   "source": [
    "load_dotenv() # Load environment variables from .env file"
   ]
  },
  {
   "cell_type": "code",
   "execution_count": 4,
   "id": "3aa2d101",
   "metadata": {},
   "outputs": [],
   "source": [
    "model = \"llama3-8b-8192\" # Model which is going to be used from Groq"
   ]
  },
  {
   "cell_type": "code",
   "execution_count": 5,
   "id": "377fcd63",
   "metadata": {},
   "outputs": [],
   "source": [
    "llm = ChatGroq(model = model, temperature = 0.0) # Less creative, more factual responses\n",
    "creative_llm = ChatGroq(model = model, temperature = 0.9) # More creative, less factual responses"
   ]
  },
  {
   "cell_type": "code",
   "execution_count": 6,
   "id": "c7e2d9ed",
   "metadata": {},
   "outputs": [],
   "source": [
    "# This is a sample article that we will use further.\n",
    "\n",
    "article = \"\"\"\n",
    "Liverpool FC: The Renaissance Under Jürgen Klopp's Second Era\n",
    "\n",
    "Liverpool Football Club is experiencing a remarkable transformation in what many are calling \n",
    "Jürgen Klopp's second era at the helm. After the departure of veteran players like Jordan \n",
    "Henderson, Roberto Firmino, and James Milner, the club has undergone a strategic rebuild \n",
    "that's breathing new life into the historic institution.\n",
    "\n",
    "The midfield revolution has been particularly striking. The additions of Dominik Szoboszlai, \n",
    "Alexis Mac Allister, and Ryan Gravenberch have injected fresh energy into the team's core. \n",
    "These young talents, combined with the explosive potential of Darwin Núñez and the consistent \n",
    "brilliance of Mohamed Salah, have restored Liverpool's fearsome attacking reputation.\n",
    "\n",
    "What's most impressive is how Klopp has managed this transition while maintaining the team's \n",
    "competitive edge. The Reds have seamlessly blended their renowned high-pressing style with \n",
    "a more nuanced possession game, adapting to the strengths of their new personnel. The \n",
    "emergence of academy graduates like Conor Bradley and Jarell Quansah also highlights the \n",
    "club's commitment to youth development.\n",
    "\n",
    "However, challenges remain as the team seeks to reclaim their position at the summit of \n",
    "English football. The question of defensive stability and squad depth continues to spark \n",
    "debate among supporters. Yet, there's an undeniable sense of optimism at Anfield as this \n",
    "new-look Liverpool side shows all the hallmarks of another potentially dominant era in \n",
    "the club's storied history.\n",
    "\"\"\""
   ]
  },
  {
   "cell_type": "code",
   "execution_count": 7,
   "id": "b9744841",
   "metadata": {},
   "outputs": [],
   "source": [
    "# System prompt is a template that sets the context for the AI assistant.\n",
    "\n",
    "system_prompt = SystemMessagePromptTemplate.from_template(\n",
    "    \"You are an AI assistant called {name} that helps generate article titles.\", \n",
    "    input_variables = [\"name\"]\n",
    ")\n",
    "\n",
    "# User prompt is a template that asks (which is by the user) the AI assistant to generate a title based on the article content.\n",
    "user_prompt = HumanMessagePromptTemplate.from_template(\n",
    "    \"\"\"You are tasked with creating a name for a article.\n",
    "The article is here for you to examine {article}\n",
    "\n",
    "The name should be based of the context of the article.\n",
    "Be creative, but make sure the names are clear, catchy,\n",
    "and relevant to the theme of the article.\n",
    "\n",
    "Only output the article name, no other explanation or\n",
    "text can be provided.\"\"\",\n",
    "\n",
    "    input_variables=[\"article\"]\n",
    ")"
   ]
  },
  {
   "cell_type": "code",
   "execution_count": 8,
   "id": "4a45978e",
   "metadata": {},
   "outputs": [
    {
     "data": {
      "text/plain": [
       "'You are tasked with creating a name for a article.\\nThe article is here for you to examine TEST\\n\\nThe name should be based of the context of the article.\\nBe creative, but make sure the names are clear, catchy,\\nand relevant to the theme of the article.\\n\\nOnly output the article name, no other explanation or\\ntext can be provided.'"
      ]
     },
     "execution_count": 8,
     "metadata": {},
     "output_type": "execute_result"
    }
   ],
   "source": [
    "user_prompt.format(article = \"TEST\").content # This will print the formatted user prompt with the article content."
   ]
  },
  {
   "cell_type": "code",
   "execution_count": 9,
   "id": "6901b6db",
   "metadata": {},
   "outputs": [],
   "source": [
    "first_prompt = ChatPromptTemplate.from_messages([system_prompt, user_prompt]) # Chat prompt template combines system and user prompts."
   ]
  },
  {
   "cell_type": "code",
   "execution_count": 10,
   "id": "bc1177c5",
   "metadata": {},
   "outputs": [
    {
     "name": "stdout",
     "output_type": "stream",
     "text": [
      "System: You are an AI assistant called GROQ that helps generate article titles.\n",
      "Human: You are tasked with creating a name for a article.\n",
      "The article is here for you to examine TEST\n",
      "\n",
      "The name should be based of the context of the article.\n",
      "Be creative, but make sure the names are clear, catchy,\n",
      "and relevant to the theme of the article.\n",
      "\n",
      "Only output the article name, no other explanation or\n",
      "text can be provided.\n"
     ]
    }
   ],
   "source": [
    "print(first_prompt.format(article = \"TEST\", name = \"GROQ\")) # This will merge both the system and user prompts into a single prompt."
   ]
  },
  {
   "cell_type": "code",
   "execution_count": 11,
   "id": "5360458a",
   "metadata": {},
   "outputs": [],
   "source": [
    "# Using LangChain Expression Language (LCEL) to construct our chain. \n",
    "# The inputs are defined in dictionary {} and the pipe operator (|) and the contents of the left side are fed to right side of the pipe.\n",
    "\n",
    "chain_one = (\n",
    "    {\n",
    "        \"article\" : lambda x: x[\"article\"], \n",
    "        \"name\" : lambda x: x[\"name\"]\n",
    "    }\n",
    "    | first_prompt\n",
    "    | creative_llm\n",
    "    | {\"article_title\": lambda x: x.content}\n",
    ")"
   ]
  },
  {
   "cell_type": "code",
   "execution_count": 12,
   "id": "a121409f",
   "metadata": {},
   "outputs": [
    {
     "data": {
      "text/plain": [
       "{'article_title': '\"Klopp\\'s Revival: Liverpool\\'s Rebirth Under the German Maestro\\'s Second Era\"'}"
      ]
     },
     "execution_count": 12,
     "metadata": {},
     "output_type": "execute_result"
    }
   ],
   "source": [
    "# We will use invoke method to execute the chain with the article and name as inputs.\n",
    "\n",
    "article_title = chain_one.invoke({\n",
    "    \"article\": article, \n",
    "    \"name\" : \"GROQ\"\n",
    "})\n",
    "\n",
    "article_title"
   ]
  },
  {
   "cell_type": "markdown",
   "id": "65b6333d",
   "metadata": {},
   "source": [
    "### Multiple LLMChains to follow!"
   ]
  },
  {
   "cell_type": "code",
   "execution_count": 13,
   "id": "ef3ce4c6",
   "metadata": {},
   "outputs": [],
   "source": [
    "# Here we change the system prompt and a new user prompt.\n",
    "\n",
    "system_prompt = SystemMessagePromptTemplate.from_template(\n",
    "    \"You are an AI assistant that helps generate awesome articles.\"\n",
    ")\n",
    "\n",
    "second_user_prompt = HumanMessagePromptTemplate.from_template(\n",
    "    \"\"\"You are tasked with creating a description for\n",
    "the article. The article is here for you to examine:\n",
    "\n",
    "---\n",
    "\n",
    "{article}\n",
    "\n",
    "---\n",
    "\n",
    "Here is the article title '{article_title}'.\n",
    "\n",
    "Output the SEO friendly article description. Also make sure dont exceed over 120 characters.\n",
    "Do not output anything other than the description.\"\"\",\n",
    "    input_variables=[\"article\", \"article_title\"]\n",
    ")"
   ]
  },
  {
   "cell_type": "code",
   "execution_count": 14,
   "id": "9a774bdf",
   "metadata": {},
   "outputs": [],
   "source": [
    "second_prompt = ChatPromptTemplate.from_messages(\n",
    "    [\n",
    "        system_prompt,\n",
    "        second_user_prompt\n",
    "    ]\n",
    ")"
   ]
  },
  {
   "cell_type": "code",
   "execution_count": 15,
   "id": "0e4b5c02",
   "metadata": {},
   "outputs": [],
   "source": [
    "chain_two = (\n",
    "    {\n",
    "        \"article\" : lambda x: x[\"article\"],\n",
    "        \"article_title\": lambda x: x[\"article_title\"]\n",
    "    }\n",
    "    | second_prompt\n",
    "    | llm\n",
    "    | {\"summary\": lambda x: x.content}\n",
    ")\n",
    "\n",
    "# Here we have created a second chain."
   ]
  },
  {
   "cell_type": "code",
   "execution_count": 16,
   "id": "2eb2de78",
   "metadata": {},
   "outputs": [
    {
     "data": {
      "text/plain": [
       "{'summary': '\"Jürgen Klopp\\'s second era at Liverpool FC sparks a renaissance, as the Reds rebuild and adapt, blending youth and experience to reclaim their spot at the top of English football.\"'}"
      ]
     },
     "execution_count": 16,
     "metadata": {},
     "output_type": "execute_result"
    }
   ],
   "source": [
    "article_desc_msg = chain_two.invoke(\n",
    "    {\n",
    "        \"article\": article,\n",
    "        \"article_title\": article_title[\"article_title\"]\n",
    "    }\n",
    ")\n",
    "\n",
    "article_desc_msg   # This will invoke the second chain with the article and article title as inputs.\n",
    "# The output will be the article description generated by the AI assistant."
   ]
  },
  {
   "cell_type": "code",
   "execution_count": 38,
   "id": "f6eaf6bb",
   "metadata": {},
   "outputs": [],
   "source": [
    "third_user_prompt = HumanMessagePromptTemplate.from_template(\n",
    "    \"\"\"You are tasked with creating a new paragraph for the\n",
    "article. The article is here for you to examine:\n",
    "\n",
    "---\n",
    "\n",
    "{article}\n",
    "\n",
    "---\n",
    "\n",
    "Choose one paragraph to review and edit. During your edit\n",
    "ensure you provide constructive feedback to the user so they\n",
    "can learn where to improve their own writing.\"\"\",\n",
    "    input_variables=[\"article\"]\n",
    ")\n",
    "\n",
    "# prompt template 3: creating a new paragraph for the article\n",
    "third_prompt = ChatPromptTemplate.from_messages([\n",
    "    system_prompt,\n",
    "    third_user_prompt\n",
    "])"
   ]
  },
  {
   "cell_type": "code",
   "execution_count": 39,
   "id": "2ae7f5f5",
   "metadata": {},
   "outputs": [],
   "source": [
    "from pydantic import BaseModel, Field\n",
    "\n",
    "class Paragraph(BaseModel):\n",
    "    original_paragraph: str = Field(description=\"The original paragraph\")\n",
    "    edited_paragraph: str = Field(description=\"The improved edited paragraph\")\n",
    "    feedback: str = Field(description=(\n",
    "        \"Constructive feedback on the original paragraph\"\n",
    "    ))\n",
    "\n",
    "structured_llm = creative_llm.with_structured_output(Paragraph)"
   ]
  },
  {
   "cell_type": "code",
   "execution_count": 42,
   "id": "f7cfe00a",
   "metadata": {},
   "outputs": [],
   "source": [
    "# chain 3: inputs: article / output: article_para\n",
    "chain_three = (\n",
    "    {\"article\": lambda x: x[\"article\"]}\n",
    "    | third_prompt\n",
    "    | structured_llm\n",
    "    | {\n",
    "        \"original_paragraph\": lambda x: x.original_paragraph,\n",
    "        \"edited_paragraph\": lambda x: x.edited_paragraph,\n",
    "        \"feedback\": lambda x: x.feedback\n",
    "    }\n",
    ")"
   ]
  },
  {
   "cell_type": "code",
   "execution_count": 43,
   "id": "32e27712",
   "metadata": {},
   "outputs": [
    {
     "data": {
      "text/plain": [
       "{'original_paragraph': \"The midfield revolution has been particularly striking. The additions of Dominik Szoboszlai, Alexis Mac Allister, and Ryan Gravenberch have injected fresh energy into the team's core. These young talents, combined with the explosive potential of Darwin Núñez and the consistent brilliance of Mohamed Salah, have restored Liverpool's fearsome attacking reputation.\",\n",
       " 'edited_paragraph': '',\n",
       " 'feedback': \"The paragraph does a great job of highlighting the changes made to the team's midfield, but could benefit from more specific examples of how these players have contributed to the team's success. Additionally, the transition between the mention of the current players and the team's attacking reputation could be smoother.\"}"
      ]
     },
     "execution_count": 43,
     "metadata": {},
     "output_type": "execute_result"
    }
   ],
   "source": [
    "chain_three.invoke({\"article\": article})\n"
   ]
  },
  {
   "cell_type": "code",
   "execution_count": 50,
   "id": "605eb66b",
   "metadata": {},
   "outputs": [],
   "source": [
    "# Remove the DALLE import\n",
    "# from langchain_community.utilities.dalle_image_generator import DallEAPIWrapper\n",
    "from langchain_core.prompts import PromptTemplate\n",
    "\n",
    "# Modified prompt template for generating image descriptions\n",
    "image_prompt = PromptTemplate(\n",
    "    input_variables=[\"article\"],\n",
    "    template=(\n",
    "        \"Generate a detailed image description in less than 100 words that captures \"\n",
    "        \"the essence of this article. Focus on visual elements that would make a \"\n",
    "        \"compelling illustration: {article}\"\n",
    "    )\n",
    ")\n",
    "\n",
    "# Modified display function to just print the image description\n",
    "def display_image_prompt(image_description):\n",
    "    print(\"\\nImage Description Generated:\")\n",
    "    print(\"-\" * 50)\n",
    "    print(image_description)\n",
    "    print(\"-\" * 50)\n",
    "    \n",
    "# Wrap in RunnableLambda\n",
    "image_display_runnable = RunnableLambda(display_image_prompt)\n",
    "\n",
    "# Modified chain that outputs the image description\n",
    "chain_four = (\n",
    "    {\"article\": lambda x: x[\"article\"]}\n",
    "    | image_prompt\n",
    "    | llm  # Using your existing Groq LLM\n",
    "    | (lambda x: x.content)\n",
    "    | image_display_runnable\n",
    ")"
   ]
  },
  {
   "cell_type": "code",
   "execution_count": 51,
   "id": "4aa88993",
   "metadata": {},
   "outputs": [
    {
     "name": "stdout",
     "output_type": "stream",
     "text": [
      "\n",
      "Image Description Generated:\n",
      "--------------------------------------------------\n",
      "Here is a detailed image description in under 100 words that captures the essence of the article:\n",
      "\n",
      "The illustration depicts a vibrant, dynamic scene at Anfield Stadium, with Liverpool FC's iconic Liverbird logo emblazoned on the top left corner. In the foreground, a collage of players from the new-look squad is arranged in a circular pattern, showcasing the team's youthful energy and talent. Mohamed Salah, Darwin Núñez, and Dominik Szoboszlai are prominently featured, with the midfield trio of Alex Mac Allister, Ryan Gravenberch, and Conor Bradley forming the central axis. The background is a gradient of red and white, evoking the team's colors and the sense of optimism and renewal.\n",
      "--------------------------------------------------\n"
     ]
    }
   ],
   "source": [
    "chain_four.invoke({\"article\": article})"
   ]
  },
  {
   "cell_type": "code",
   "execution_count": null,
   "id": "309f4410",
   "metadata": {},
   "outputs": [],
   "source": []
  }
 ],
 "metadata": {
  "kernelspec": {
   "display_name": "langchain_env",
   "language": "python",
   "name": "python3"
  },
  "language_info": {
   "codemirror_mode": {
    "name": "ipython",
    "version": 3
   },
   "file_extension": ".py",
   "mimetype": "text/x-python",
   "name": "python",
   "nbconvert_exporter": "python",
   "pygments_lexer": "ipython3",
   "version": "3.9.13"
  }
 },
 "nbformat": 4,
 "nbformat_minor": 5
}
